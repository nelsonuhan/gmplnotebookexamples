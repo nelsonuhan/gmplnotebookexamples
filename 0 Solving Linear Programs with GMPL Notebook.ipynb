{
 "cells": [
  {
   "cell_type": "markdown",
   "metadata": {},
   "source": [
    "# Solving Linear Programs with GMPL Notebook"
   ]
  },
  {
   "cell_type": "markdown",
   "metadata": {},
   "source": [
    "## What am I looking at here?"
   ]
  },
  {
   "cell_type": "markdown",
   "metadata": {},
   "source": [
    "* This is a [Jupyter Notebook](http://jupyter.org) written for __GMPL Notebook__, a GMPL/MathProg kernel+extension. \n",
    "    - For details on installing GMPL Notebook, visit its [GitHub page](https://github.com/nelsonuhan/gmplnotebook).\n",
    "\n",
    "\n",
    "* __GMPL__ is a programming language for optimization models.\n",
    "    \n",
    "    - GMPL is also called __MathProg__.\n",
    "    - GMPL is very similar to __AMPL__, a popular commercial optimization modeling language.\n",
    "    \n",
    "    \n",
    "* GMPL Notebook uses [__PyGLPK__](https://github.com/bradfordboyle/pyglpk), a Python wrapper for [__GLPK__](https://www.gnu.org/software/glpk/) to solve models written in GMPL."
   ]
  },
  {
   "cell_type": "markdown",
   "metadata": {},
   "source": [
    "## Some useful pointers"
   ]
  },
  {
   "cell_type": "markdown",
   "metadata": {},
   "source": [
    "* The [GLPK Wikibook](https://en.wikibooks.org/wiki/GLPK) has some pointers on writing optimization models in GMPL.\n",
    "\n",
    "\n",
    "* The [GMPL Reference Manual](https://www.usna.edu/Users/math/uhan/sa305/gmpl.pdf) describes the langauge in detail."
   ]
  },
  {
   "cell_type": "markdown",
   "metadata": {},
   "source": [
    "## An example: baking and selling cakes"
   ]
  },
  {
   "cell_type": "markdown",
   "metadata": {},
   "source": [
    "This example is based on the Farmer Jones example in \"Deterministic Operations Research: Models and Methods\" by David J. Rader (Wiley, 2010)."
   ]
  },
  {
   "cell_type": "markdown",
   "metadata": {},
   "source": [
    "* Consider the following problem:\n",
    "\n",
    "> Farmer Jones decides to supplement her income by baking and selling two types of cakes, chocolate and vanilla. Each chocolate cake sold gives a profit of \\$3, and the profit on each vanilla cake sold is \\$4. Each chocolate cake uses 4 eggs and 4 pounds of flour, while each vanilla cake uses 2 eggs and 6 pounds of flour. If Farmer Jones has only 32 eggs and 48 pounds of flour available, how many of each type of cake should Farmer Jones bake in order to maximize her profit? (For now, assume all cakes baked are sold, and fractional cakes are OK.)\n",
    "\n",
    "* We can model Farmer Jones's problem as a linear program."
   ]
  },
  {
   "cell_type": "markdown",
   "metadata": {},
   "source": [
    "### Decision variables"
   ]
  },
  {
   "cell_type": "markdown",
   "metadata": {},
   "source": [
    "* To formulate a linear program, we first need to define some __decision variables__,  or variables that represent decisions to be made.\n",
    "\n",
    "\n",
    "* In this case, it makes sense to define decision variables that represent the number of cakes Farmer Jones should bake:\n",
    "\n",
    "\n",
    "$$\n",
    "\\begin{aligned}\n",
    "C & = \\text{number of chocolate cakes to bake}\\\\\n",
    "V & = \\text{number of vanilla cakes to bake}\n",
    "\\end{aligned}\n",
    "$$\n",
    "\n",
    "\n",
    "* In GMPL, we can declare these decision variables as follows:"
   ]
  },
  {
   "cell_type": "code",
   "execution_count": null,
   "metadata": {
    "collapsed": true
   },
   "outputs": [],
   "source": [
    "# Define decision variables and variable bounds\n",
    "var C >= 0;    # number of chocolate cakes to bake\n",
    "var V >= 0;    # number of vanilla cakes to bake"
   ]
  },
  {
   "cell_type": "markdown",
   "metadata": {},
   "source": [
    "* Code after `#` on a given line is ignored &mdash; these are __comments__.\n",
    "\n",
    "\n",
    "* Note that each statement ends with a semi-colon (`;`).\n",
    "\n",
    "\n",
    "* Note that we included `>= 0` when we declared these variables &mdash; more on this in a few moments."
   ]
  },
  {
   "cell_type": "markdown",
   "metadata": {},
   "source": [
    "### Objective function"
   ]
  },
  {
   "cell_type": "markdown",
   "metadata": {},
   "source": [
    "* We can now express Farmer Jones's __objective function__ in terms of these decision variables.\n",
    "\n",
    "\n",
    "* Since Farmer Jones wants to maximize her total profit, her objective is:\n",
    "\n",
    "$$\n",
    "\\text{maximize} \\qquad 3C + 4V \\qquad \\text{(total profit)}\n",
    "$$\n",
    "\n",
    "\n",
    "* In GMPL, we can write the objective as follows:"
   ]
  },
  {
   "cell_type": "code",
   "execution_count": null,
   "metadata": {
    "collapsed": true
   },
   "outputs": [],
   "source": [
    "maximize total_profit: 3*C + 4*V;"
   ]
  },
  {
   "cell_type": "markdown",
   "metadata": {},
   "source": [
    "### Constraints"
   ]
  },
  {
   "cell_type": "markdown",
   "metadata": {},
   "source": [
    "* We also need to make sure that Farmer Jones doesn't use more eggs and flour than she has on hand &mdash; we can include the following __constraints__ in our linear program:\n",
    "\n",
    "$$\n",
    "\\begin{alignedat}{2}\n",
    "\\text{subject to} \\quad 4C + 2V & \\le 32 &\\qquad& \\text{(eggs)}\\\\\n",
    "4C + 6V & \\le 48 &\\qquad& \\text{(flour)}\n",
    "\\end{alignedat}\n",
    "$$\n",
    "\n",
    "* We can write these constraints in GMPL like this:"
   ]
  },
  {
   "cell_type": "code",
   "execution_count": null,
   "metadata": {
    "collapsed": true
   },
   "outputs": [],
   "source": [
    "subject to eggs: 4*C + 2*V <= 32;\n",
    "subject to flour: 4*C + 6*V <= 48;"
   ]
  },
  {
   "cell_type": "markdown",
   "metadata": {},
   "source": [
    "* Finally, we need to make sure that the numbers of cakes are constrained to be nonnegative &mdash; Farmer Jones can't produce or sell negative numbers of cakes!\n",
    "\n",
    "\n",
    "* We can simply add the constraints:\n",
    "\n",
    "$$\n",
    "\\begin{alignedat}{2}\n",
    "C & \\ge 0 &\\qquad& \\text{(chocolate cake nonnegativity)}\\\\\n",
    "V & \\ge 0 &\\qquad& \\text{(vanilla cake nonnegativity)}\n",
    "\\end{alignedat}\n",
    "$$\n",
    "\n",
    "* Note that we already included these __nonnegativity constraints__ when we declared variables $C$ and $V$ above."
   ]
  },
  {
   "cell_type": "markdown",
   "metadata": {},
   "source": [
    "* This completes our model! In GMPL, we can finish off our model simply like this:"
   ]
  },
  {
   "cell_type": "code",
   "execution_count": null,
   "metadata": {
    "collapsed": true
   },
   "outputs": [],
   "source": [
    "end;"
   ]
  },
  {
   "cell_type": "markdown",
   "metadata": {},
   "source": [
    "### Solving Farmer Jones's problem"
   ]
  },
  {
   "cell_type": "markdown",
   "metadata": {},
   "source": [
    "* We can solve this model by clicking the <i class=\"fa fa-calculator\" aria-hidden=\"true\"></i> button in the toolbar. This will collate all the GMPL code we wrote above and solve it using GLPK.\n",
    "\n",
    "\n",
    "* This will create a new cell at the bottom of this notebook containing three tabs:\n",
    "    - __Solution__ contains information about the solution GLPK found.\n",
    "    - __Model__ contains the GMPL code we wrote above, collated into one place. This is the version of the code that GLPK uses.\n",
    "    - __Logs__ contains the logs generated by GLPK.\n",
    "    \n",
    "\n",
    "* After clicking the <i class=\"fa fa-calculator\" aria-hidden=\"true\"></i> button you should see that in order to maximize her profit, Farmer Jones should bake 6 chocolate cakes and 4 vanilla cakes to earn a profit of \\$34."
   ]
  },
  {
   "cell_type": "markdown",
   "metadata": {},
   "source": [
    "## How can I export this GMPL code to use elsewhere?"
   ]
  },
  {
   "cell_type": "markdown",
   "metadata": {},
   "source": [
    "* Click on File > Download as > GMPL/MathProg (.mod). \n",
    "\n",
    "\n",
    "* This will collate all the GMPL code above and put it in a `.mod` file.\n",
    "\n",
    "\n",
    "* You can use this `.mod` file with other GLPK tools such `glpsol` or [GUSEK](http://gusek.sourceforge.net/gusek.html)."
   ]
  },
  {
   "cell_type": "code",
   "execution_count": null,
   "metadata": {
    "collapsed": false
   },
   "outputs": [],
   "source": [
    "%solve"
   ]
  }
 ],
 "metadata": {
  "kernelspec": {
   "display_name": "GMPL/MathProg",
   "language": "gmpl",
   "name": "gmpl"
  },
  "language_info": {
   "codemirror_mode": "mathprog",
   "file_extension": ".mod",
   "help_links": [
    {
     "text": "MetaKernel Magics",
     "url": "https://github.com/calysto/metakernel/blob/master/metakernel/magics/README.md"
    }
   ],
   "mimetype": "text/plain",
   "name": "GMPL/MathProg"
  }
 },
 "nbformat": 4,
 "nbformat_minor": 1
}
