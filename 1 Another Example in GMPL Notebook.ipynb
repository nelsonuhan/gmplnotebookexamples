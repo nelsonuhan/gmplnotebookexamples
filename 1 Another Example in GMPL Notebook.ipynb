{
 "cells": [
  {
   "cell_type": "markdown",
   "metadata": {},
   "source": [
    "# Another Example in GMPL Notebook"
   ]
  },
  {
   "cell_type": "markdown",
   "metadata": {},
   "source": [
    "This example is based on the American Engine Co. example in \"Deterministic Operations Research: Models and Methods\" by David J. Rader (Wiley, 2010)."
   ]
  },
  {
   "cell_type": "markdown",
   "metadata": {},
   "source": [
    "> American Engine Co. produces two engines, one for trucks and one for cars.\n",
    "During the next 3 months, they anticipate the following demands for their engines:\n",
    "\n",
    "<table>\n",
    "    <tr>\n",
    "        <td></td>\n",
    "        <td>Month 1</td>\n",
    "        <td>Month 2</td>\n",
    "        <td>Month 3</td>\n",
    "    </tr>\n",
    "    <tr>\n",
    "        <td>Truck engines</td>\n",
    "        <td>400</td>\n",
    "        <td>300</td>\n",
    "        <td>500</td>\n",
    "    </tr>\n",
    "    <tr>\n",
    "        <td>Car engines</td>\n",
    "        <td>800</td>\n",
    "        <td>500</td>\n",
    "        <td>600</td>\n",
    "    </tr>\n",
    "</table>\n",
    "\n",
    "> Each month's demand must be fully satisfied.\n",
    "During each month, at most 1000 engines (combined) can be produced.\n",
    "Each truck engine requires 10 hours of labor to produce and costs \\$2000 in supplies,\n",
    "while each car engine requires 8 hours of labor and costs \\$1500 in supplies.\n",
    "At most 9000 hours are available each month.\n",
    "At the beginning of month 1, 100 truck engines and 200 car engines are inventory.\n",
    "At the end of each month, a holding cost of \\$150 per engine is assigned to any engine in inventory.\n",
    "At the end of the third month, management wants to have at least 100 of each engine in inventory.\n",
    "How can we meet monthly demand at a minimum cost?"
   ]
  },
  {
   "cell_type": "markdown",
   "metadata": {},
   "source": [
    "## Sets and parameters"
   ]
  },
  {
   "cell_type": "markdown",
   "metadata": {},
   "source": [
    "Let's start by identifying sets and parameters for this problem."
   ]
  },
  {
   "cell_type": "markdown",
   "metadata": {},
   "source": [
    "We have a set of engine types (truck, car), as well as a set of time periods (months).\n",
    "Let's define these sets as:"
   ]
  },
  {
   "cell_type": "markdown",
   "metadata": {},
   "source": [
    "$$\n",
    "\\begin{aligned}\n",
    "E & = \\text{set of engine types}\\\\\n",
    "T & = \\text{set of time periods (months)}\n",
    "\\end{aligned}\n",
    "$$"
   ]
  },
  {
   "cell_type": "markdown",
   "metadata": {},
   "source": [
    "In GMPL, we can declare these sets like this:"
   ]
  },
  {
   "cell_type": "code",
   "execution_count": null,
   "metadata": {
    "collapsed": true
   },
   "outputs": [],
   "source": [
    "# Sets\n",
    "set E;    # set of engine types\n",
    "set T;    # set of time periods (months)"
   ]
  },
  {
   "cell_type": "markdown",
   "metadata": {},
   "source": [
    "Next, let's define some symbols to represent the parameters given in the problem:"
   ]
  },
  {
   "cell_type": "markdown",
   "metadata": {},
   "source": [
    "$$\n",
    "\\begin{alignedat}{2}\n",
    "    d_{e,t} & = \\text{demand for type $e$ engines in month $t$} &\\quad& \\text{for } e \\in E, t \\in T\\\\\n",
    "    a_{e} & = \\text{labor required to produce one type $e$ engine} &\\quad& \\text{for } e \\in E\\\\\n",
    "    c_{e} & = \\text{cost of producing one type $e$ engine} &\\quad& \\text{for } e \\in E\\\\\n",
    "    I_{e,0} & = \\text{initial inventory of type $e$ engines} &\\quad& \\text{for } e \\in E\n",
    "\\end{alignedat}\n",
    "$$"
   ]
  },
  {
   "cell_type": "markdown",
   "metadata": {},
   "source": [
    "We declare these parameters in GMPL as follows:"
   ]
  },
  {
   "cell_type": "code",
   "execution_count": null,
   "metadata": {
    "collapsed": true
   },
   "outputs": [],
   "source": [
    "# Parameters\n",
    "param d{e in E, t in T};    # demand for type e engines in month t\n",
    "param a{e in E};            # labor required to produce one type e engine\n",
    "param c{e in E};            # cost of producing one type e engine\n",
    "param I0{e in E};           # initial inventory of type e engines"
   ]
  },
  {
   "cell_type": "markdown",
   "metadata": {},
   "source": [
    "## Decision variables"
   ]
  },
  {
   "cell_type": "markdown",
   "metadata": {},
   "source": [
    "Next, let's define decision variables. "
   ]
  },
  {
   "cell_type": "markdown",
   "metadata": {},
   "source": [
    "We want to determine how much of each engine is produced and how many engines are placed in inventory:"
   ]
  },
  {
   "cell_type": "markdown",
   "metadata": {},
   "source": [
    "$$\n",
    "\\begin{alignedat}{2}\n",
    "    x_{e, t} & = \\text{number of type $e$ engines to produce in month $t$} &\\quad& \\text{for } e \\in E, t \\in T\\\\\n",
    "    y_{e, t} & = \\text{number of type $e$ engines in inventory at the end of month $t$} &\\quad& \\text{for } e \\in E, t \\in T \\cup \\{0\\}\n",
    "\\end{alignedat}\n",
    "$$"
   ]
  },
  {
   "cell_type": "markdown",
   "metadata": {},
   "source": [
    "We declare these decision variables in GMPL like this:"
   ]
  },
  {
   "cell_type": "code",
   "execution_count": null,
   "metadata": {
    "collapsed": true
   },
   "outputs": [],
   "source": [
    "# Decision variables\n",
    "var x{e in E, t in T} >= 0;             # number of type e engines to produce in month t\n",
    "var y{e in E, t in T union {0}} >= 0;   # number of type e engines in inventory at the end of month t"
   ]
  },
  {
   "cell_type": "markdown",
   "metadata": {},
   "source": [
    "Note that we can impose bounds on the variable (in this case, $\\ge 0$) when we declare the variables."
   ]
  },
  {
   "cell_type": "markdown",
   "metadata": {},
   "source": [
    "## Objective function"
   ]
  },
  {
   "cell_type": "markdown",
   "metadata": {},
   "source": [
    "The objective here is to minimize costs. There are two components to the cost: holding costs and supply costs.\n",
    "The holding costs can be expressed as"
   ]
  },
  {
   "cell_type": "markdown",
   "metadata": {},
   "source": [
    "$$\n",
    "\\text{holding costs} = 150 \\sum_{e \\in E} \\sum_{t \\in T} y_{e,t}\n",
    "$$"
   ]
  },
  {
   "cell_type": "markdown",
   "metadata": {},
   "source": [
    "The supply costs are"
   ]
  },
  {
   "cell_type": "markdown",
   "metadata": {},
   "source": [
    "$$\n",
    "\\text{supply costs} = \\sum_{e \\in E} c_e \\sum_{t \\in T} x_{e,t}\n",
    "$$"
   ]
  },
  {
   "cell_type": "markdown",
   "metadata": {},
   "source": [
    "Adding these together, we obtain our objective function. We can write this in GMPL as follows:"
   ]
  },
  {
   "cell_type": "code",
   "execution_count": null,
   "metadata": {
    "collapsed": true
   },
   "outputs": [],
   "source": [
    "# Objective function\n",
    "maximize total_cost: 150 * sum{t in T, e in E} y[e,t] + sum{e in E, t in T} c[e] * x[e,t];"
   ]
  },
  {
   "cell_type": "markdown",
   "metadata": {},
   "source": [
    "## Constraints"
   ]
  },
  {
   "cell_type": "markdown",
   "metadata": {},
   "source": [
    "First, we have constraints on the number of engines produced in each month:"
   ]
  },
  {
   "cell_type": "markdown",
   "metadata": {},
   "source": [
    "$$\n",
    "\\sum_{e \\in E} x_{e,t} \\le 1000 \\quad \\text{for } t \\in T\n",
    "$$"
   ]
  },
  {
   "cell_type": "markdown",
   "metadata": {},
   "source": [
    "These constraints can be expressed in GMPL as:"
   ]
  },
  {
   "cell_type": "code",
   "execution_count": null,
   "metadata": {
    "collapsed": true
   },
   "outputs": [],
   "source": [
    "# Constraints\n",
    "subject to engines_per_month{t in T}:\n",
    "    sum{e in E} x[e,t] <= 1000;"
   ]
  },
  {
   "cell_type": "markdown",
   "metadata": {},
   "source": [
    "We also have constraints on the amount of labor used each month:"
   ]
  },
  {
   "cell_type": "markdown",
   "metadata": {},
   "source": [
    "$$\n",
    "\\sum_{e \\in E} a_{e} x_{e,t} \\le 9000 \\quad \\text{for } t \\in T\n",
    "$$"
   ]
  },
  {
   "cell_type": "markdown",
   "metadata": {},
   "source": [
    "These constraints can be written in GMPL as:"
   ]
  },
  {
   "cell_type": "code",
   "execution_count": null,
   "metadata": {
    "collapsed": true
   },
   "outputs": [],
   "source": [
    "subject to labor_per_month{t in T}:\n",
    "    sum{e in E} a[e] * x[e,t] <= 9000;"
   ]
  },
  {
   "cell_type": "markdown",
   "metadata": {},
   "source": [
    "We also need to make sure that the inventory levels, production levels, and demand are compatible with each other. In particular, we need to ensure that"
   ]
  },
  {
   "cell_type": "markdown",
   "metadata": {},
   "source": [
    "$$\n",
    "\\left( \\begin{array}{c}\n",
    "    \\text{Inventory at the}\\\\\n",
    "    \\text{end of month $t-1$}\n",
    "\\end{array} \\right) \n",
    "+\n",
    "\\left( \\begin{array}{c}\n",
    "    \\text{Production}\\\\\n",
    "    \\text{during month $t$}\n",
    "\\end{array} \\right)\n",
    "=\n",
    "\\left( \\begin{array}{c}\n",
    "    \\text{Demand}\\\\\n",
    "    \\text{during month $t$}\n",
    "\\end{array} \\right) \n",
    "+\n",
    "\\left( \\begin{array}{c}\n",
    "    \\text{Inventory at the}\\\\\n",
    "    \\text{end of month $t$}\n",
    "\\end{array} \\right)\n",
    "$$"
   ]
  },
  {
   "cell_type": "markdown",
   "metadata": {},
   "source": [
    "Therefore, we need the following **balance constraints**:"
   ]
  },
  {
   "cell_type": "markdown",
   "metadata": {},
   "source": [
    "$$\n",
    "y_{e,t-1} + x_{e,t} = d_{e,t} + y_{e,t} \\quad \\text{for } e \\in E, t \\in T\n",
    "$$"
   ]
  },
  {
   "cell_type": "markdown",
   "metadata": {},
   "source": [
    "In GMPL:"
   ]
  },
  {
   "cell_type": "code",
   "execution_count": null,
   "metadata": {
    "collapsed": true
   },
   "outputs": [],
   "source": [
    "subject to balance{e in E, t in T}:\n",
    "    y[e,t-1] + x[e,t] = d[e,t] + y[e,t];"
   ]
  },
  {
   "cell_type": "markdown",
   "metadata": {},
   "source": [
    "Finally, we have some constraints on the initial and ending inventory levels:"
   ]
  },
  {
   "cell_type": "markdown",
   "metadata": {},
   "source": [
    "$$\n",
    "\\begin{alignedat}{2}\n",
    "    y_{e,0} & = I_{e,0} &\\quad& \\text{for } e \\in E\\\\\n",
    "    y_{e,3} & \\ge 100 &\\quad& \\text{for } e \\in E\n",
    "\\end{alignedat}\n",
    "$$"
   ]
  },
  {
   "cell_type": "markdown",
   "metadata": {},
   "source": [
    "We can write these constraints in GMPL like this:"
   ]
  },
  {
   "cell_type": "code",
   "execution_count": null,
   "metadata": {
    "collapsed": true
   },
   "outputs": [],
   "source": [
    "subject to initial_inventory{e in E}:\n",
    "    y[e,0] = I0[e];\n",
    "    \n",
    "subject to ending_inventory{e in E}:\n",
    "    y[e,3] >= 100;"
   ]
  },
  {
   "cell_type": "markdown",
   "metadata": {},
   "source": [
    "## Data"
   ]
  },
  {
   "cell_type": "markdown",
   "metadata": {},
   "source": [
    "It's now time to populate the sets and parameters with actual values! This is accomplished in the `data` section of a GMPL model file."
   ]
  },
  {
   "cell_type": "code",
   "execution_count": null,
   "metadata": {
    "collapsed": true
   },
   "outputs": [],
   "source": [
    "data;"
   ]
  },
  {
   "cell_type": "markdown",
   "metadata": {},
   "source": [
    "We define the sets $E$ and $T$ in GMPL as follows:"
   ]
  },
  {
   "cell_type": "code",
   "execution_count": null,
   "metadata": {
    "collapsed": false
   },
   "outputs": [],
   "source": [
    "# Sets\n",
    "set E := \"truck\" \"car\";\n",
    "set T := 1 2 3;"
   ]
  },
  {
   "cell_type": "markdown",
   "metadata": {},
   "source": [
    "Next, we can give values for the parameters $d_{e,t}$, $a_{e}$, $c_{e}$ and $I_{e,0}$ in GMPL like this:"
   ]
  },
  {
   "cell_type": "code",
   "execution_count": null,
   "metadata": {
    "collapsed": false
   },
   "outputs": [],
   "source": [
    "# Parameters\n",
    "param d :\n",
    "        1   2   3 :=\n",
    "truck 400 300 500\n",
    "car   800 500 600;\n",
    "\n",
    "param a :=\n",
    "    truck   10\n",
    "    car     8;\n",
    "    \n",
    "param c :=\n",
    "    truck   2000\n",
    "    car     1500;\n",
    "\n",
    "param I0 :=\n",
    "    truck   100\n",
    "    car     200;"
   ]
  },
  {
   "cell_type": "markdown",
   "metadata": {},
   "source": [
    "## Finishing up"
   ]
  },
  {
   "cell_type": "markdown",
   "metadata": {},
   "source": [
    "We end our GMPL file with an end statement:"
   ]
  },
  {
   "cell_type": "code",
   "execution_count": null,
   "metadata": {
    "collapsed": true
   },
   "outputs": [],
   "source": [
    "end;"
   ]
  },
  {
   "cell_type": "markdown",
   "metadata": {},
   "source": [
    "To solve this model in GMPL notebook, press the <i class=\"fa fa-calculator\" aria-hidden=\"true\"></i> button in the toolbar. This will collate all the GMPL code we wrote above and solve it using GLPK."
   ]
  },
  {
   "cell_type": "code",
   "execution_count": null,
   "metadata": {
    "collapsed": false
   },
   "outputs": [],
   "source": [
    "%solve"
   ]
  }
 ],
 "metadata": {
  "kernelspec": {
   "display_name": "GMPL/MathProg",
   "language": "gmpl",
   "name": "gmpl"
  },
  "language_info": {
   "codemirror_mode": "mathprog",
   "file_extension": ".mod",
   "help_links": [
    {
     "text": "MetaKernel Magics",
     "url": "https://github.com/calysto/metakernel/blob/master/metakernel/magics/README.md"
    }
   ],
   "mimetype": "text/plain",
   "name": "GMPL/MathProg"
  }
 },
 "nbformat": 4,
 "nbformat_minor": 0
}
